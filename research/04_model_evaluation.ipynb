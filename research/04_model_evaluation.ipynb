{
 "cells": [
  {
   "cell_type": "code",
   "execution_count": 20,
   "metadata": {},
   "outputs": [],
   "source": [
    "import os"
   ]
  },
  {
   "cell_type": "code",
   "execution_count": 9,
   "metadata": {},
   "outputs": [
    {
     "data": {
      "text/plain": [
       "'/home/kalema/Projects/MIIA-Pothole-Image-classification/research'"
      ]
     },
     "execution_count": 9,
     "metadata": {},
     "output_type": "execute_result"
    }
   ],
   "source": [
    "%pwd"
   ]
  },
  {
   "cell_type": "code",
   "execution_count": 10,
   "metadata": {},
   "outputs": [],
   "source": [
    "os.chdir('../')"
   ]
  },
  {
   "cell_type": "code",
   "execution_count": 11,
   "metadata": {},
   "outputs": [
    {
     "data": {
      "text/plain": [
       "'/home/kalema/Projects/MIIA-Pothole-Image-classification'"
      ]
     },
     "execution_count": 11,
     "metadata": {},
     "output_type": "execute_result"
    }
   ],
   "source": [
    "%pwd"
   ]
  },
  {
   "cell_type": "code",
   "execution_count": 12,
   "metadata": {},
   "outputs": [],
   "source": [
    "# mlflow configs\n",
    "MLFLOW_TRACKING_URI = \"https://dagshub.com/kalema3502/MIIA-Pothole-Image-classification.mlflow\"\n",
    "MLFLOW_TRACKING_USERNAME = \"kalema3502\"\n",
    "MLFLOW_TRACKING_PASSWORD = \"fb3845efcc3b2e46a4157b1d2c977a21e02dd16e\""
   ]
  },
  {
   "cell_type": "code",
   "execution_count": 13,
   "metadata": {},
   "outputs": [],
   "source": [
    "# mlflow configs\n",
    "os.environ[\"MLFLOW_TRACKING_URI\"]= MLFLOW_TRACKING_URI\n",
    "os.environ[\"MLFLOW_TRACKING_USERNAME\"]= MLFLOW_TRACKING_USERNAME\n",
    "os.environ[\"MLFLOW_TRACKING_PASSWORD\"]= MLFLOW_TRACKING_PASSWORD"
   ]
  },
  {
   "cell_type": "code",
   "execution_count": 14,
   "metadata": {},
   "outputs": [
    {
     "name": "stderr",
     "output_type": "stream",
     "text": [
      "2024-04-30 12:12:02.785112: I tensorflow/tsl/cuda/cudart_stub.cc:28] Could not find cuda drivers on your machine, GPU will not be used.\n",
      "2024-04-30 12:12:03.272502: I tensorflow/tsl/cuda/cudart_stub.cc:28] Could not find cuda drivers on your machine, GPU will not be used.\n",
      "2024-04-30 12:12:03.277975: I tensorflow/core/platform/cpu_feature_guard.cc:182] This TensorFlow binary is optimized to use available CPU instructions in performance-critical operations.\n",
      "To enable the following instructions: AVX2 FMA, in other operations, rebuild TensorFlow with the appropriate compiler flags.\n",
      "2024-04-30 12:12:05.900376: W tensorflow/compiler/tf2tensorrt/utils/py_utils.cc:38] TF-TRT Warning: Could not find TensorRT\n"
     ]
    }
   ],
   "source": [
    "from potholeClassifier.constants import *\n",
    "from potholeClassifier.utils.common import read_yaml, create_directories, save_json\n",
    "import tensorflow as tf"
   ]
  },
  {
   "cell_type": "code",
   "execution_count": 15,
   "metadata": {},
   "outputs": [],
   "source": [
    "from dataclasses import dataclass\n",
    "from pathlib import Path\n",
    "from potholeClassifier.entity.config_entity import TrainingConfig\n",
    "@dataclass(frozen=True)\n",
    "class EvaluationConfig:\n",
    "    path_of_model: Path\n",
    "    training_data:Path\n",
    "    all_params: dict\n",
    "    mlflow_uri: str\n",
    "    params_image_size: list\n",
    "    params_batch_size: int"
   ]
  },
  {
   "cell_type": "code",
   "execution_count": 16,
   "metadata": {},
   "outputs": [],
   "source": [
    "class ConfigurationManager:\n",
    "    \"\"\"Class for managing configuration files and preparing base models.\n",
    "    \n",
    "    This class handles the loading of configuration files and parameters,\n",
    "    as well as the creation of directories necessary for preparing base models.\n",
    "    \n",
    "    Attributes:\n",
    "        config_filepath (str, optional): The filepath of the configuration file. Defaults to CONFIG_FILE_PATH.\n",
    "        params_filepath (str, optional): The filepath of the parameters file. Defaults to PARAMS_FILE_PATH.\n",
    "    \n",
    "    Methods:\n",
    "        get_prepare_base_model_config(): Retrieves the configuration for preparing base models.\n",
    "    \"\"\"\n",
    "\n",
    "    def __init__(self, config_filepath=CONFIG_FILE_PATH, params_filepath=PARAMS_FILE_PATH) -> None:\n",
    "        \"\"\"Initializes the ConfigurationManager.\n",
    "\n",
    "        Args:\n",
    "            config_filepath (str, optional): The filepath of the configuration file. Defaults to CONFIG_FILE_PATH.\n",
    "            params_filepath (str, optional): The filepath of the parameters file. Defaults to PARAMS_FILE_PATH.\n",
    "        \"\"\"\n",
    "        self.config = read_yaml(config_filepath)\n",
    "        self.params = read_yaml(params_filepath)\n",
    "\n",
    "        create_directories([self.config.artifacts_root])\n",
    "\n",
    "    def get_evaluation_config(self) -> EvaluationConfig:\n",
    "\n",
    "        evaluation_config = EvaluationConfig(\n",
    "            path_of_model=self.config.training.trained_model_path,\n",
    "            training_data=os.path.join(self.config.data_ingestion.unzip_dir, \"dataset/train\"),\n",
    "            mlflow_uri=self.config.model_evaluation.mlflow_tracking_uri,\n",
    "            all_params=self.params,\n",
    "            params_image_size=self.params.IMAGE_SIZE,\n",
    "            params_batch_size=self.params.BATCH_SIZE\n",
    "        )\n",
    "\n",
    "        return evaluation_config"
   ]
  },
  {
   "cell_type": "code",
   "execution_count": 21,
   "metadata": {},
   "outputs": [
    {
     "name": "stdout",
     "output_type": "stream",
     "text": [
      "Requirement already satisfied: mlflow in /home/kalema/anaconda3/envs/kidney/lib/python3.8/site-packages (2.7.1)\n",
      "Requirement already satisfied: click<9,>=7.0 in /home/kalema/anaconda3/envs/kidney/lib/python3.8/site-packages (from mlflow) (8.1.7)\n",
      "Requirement already satisfied: cloudpickle<3 in /home/kalema/anaconda3/envs/kidney/lib/python3.8/site-packages (from mlflow) (2.2.1)\n",
      "Requirement already satisfied: databricks-cli<1,>=0.8.7 in /home/kalema/anaconda3/envs/kidney/lib/python3.8/site-packages (from mlflow) (0.18.0)\n",
      "Requirement already satisfied: entrypoints<1 in /home/kalema/anaconda3/envs/kidney/lib/python3.8/site-packages (from mlflow) (0.4)\n",
      "Requirement already satisfied: gitpython<4,>=2.1.0 in /home/kalema/anaconda3/envs/kidney/lib/python3.8/site-packages (from mlflow) (3.1.42)\n",
      "Requirement already satisfied: pyyaml<7,>=5.1 in /home/kalema/anaconda3/envs/kidney/lib/python3.8/site-packages (from mlflow) (6.0.1)\n",
      "Requirement already satisfied: protobuf<5,>=3.12.0 in /home/kalema/anaconda3/envs/kidney/lib/python3.8/site-packages (from mlflow) (4.25.3)\n",
      "Requirement already satisfied: pytz<2024 in /home/kalema/anaconda3/envs/kidney/lib/python3.8/site-packages (from mlflow) (2022.7.1)\n",
      "Requirement already satisfied: requests<3,>=2.17.3 in /home/kalema/anaconda3/envs/kidney/lib/python3.8/site-packages (from mlflow) (2.31.0)\n",
      "Requirement already satisfied: packaging<24 in /home/kalema/anaconda3/envs/kidney/lib/python3.8/site-packages (from mlflow) (23.2)\n",
      "Requirement already satisfied: importlib-metadata!=4.7.0,<7,>=3.7.0 in /home/kalema/anaconda3/envs/kidney/lib/python3.8/site-packages (from mlflow) (6.11.0)\n",
      "Requirement already satisfied: sqlparse<1,>=0.4.0 in /home/kalema/anaconda3/envs/kidney/lib/python3.8/site-packages (from mlflow) (0.4.4)\n",
      "Requirement already satisfied: alembic!=1.10.0,<2 in /home/kalema/anaconda3/envs/kidney/lib/python3.8/site-packages (from mlflow) (1.13.1)\n",
      "Requirement already satisfied: docker<7,>=4.0.0 in /home/kalema/anaconda3/envs/kidney/lib/python3.8/site-packages (from mlflow) (6.1.3)\n",
      "Requirement already satisfied: Flask<3 in /home/kalema/anaconda3/envs/kidney/lib/python3.8/site-packages (from mlflow) (2.3.3)\n",
      "Requirement already satisfied: numpy<2 in /home/kalema/anaconda3/envs/kidney/lib/python3.8/site-packages (from mlflow) (1.23.5)\n",
      "Requirement already satisfied: scipy<2 in /home/kalema/anaconda3/envs/kidney/lib/python3.8/site-packages (from mlflow) (1.10.1)\n",
      "Requirement already satisfied: pandas<3 in /home/kalema/anaconda3/envs/kidney/lib/python3.8/site-packages (from mlflow) (2.0.3)\n",
      "Requirement already satisfied: querystring-parser<2 in /home/kalema/anaconda3/envs/kidney/lib/python3.8/site-packages (from mlflow) (1.2.4)\n",
      "Requirement already satisfied: sqlalchemy<3,>=1.4.0 in /home/kalema/anaconda3/envs/kidney/lib/python3.8/site-packages (from mlflow) (2.0.28)\n",
      "Requirement already satisfied: scikit-learn<2 in /home/kalema/anaconda3/envs/kidney/lib/python3.8/site-packages (from mlflow) (1.3.2)\n",
      "Requirement already satisfied: pyarrow<14,>=4.0.0 in /home/kalema/anaconda3/envs/kidney/lib/python3.8/site-packages (from mlflow) (11.0.0)\n",
      "Requirement already satisfied: markdown<4,>=3.3 in /home/kalema/anaconda3/envs/kidney/lib/python3.8/site-packages (from mlflow) (3.6)\n",
      "Requirement already satisfied: matplotlib<4 in /home/kalema/anaconda3/envs/kidney/lib/python3.8/site-packages (from mlflow) (3.7.5)\n",
      "Requirement already satisfied: gunicorn<22 in /home/kalema/anaconda3/envs/kidney/lib/python3.8/site-packages (from mlflow) (20.1.0)\n",
      "Requirement already satisfied: Jinja2<4,>=2.11 in /home/kalema/anaconda3/envs/kidney/lib/python3.8/site-packages (from mlflow) (3.1.3)\n",
      "Requirement already satisfied: Mako in /home/kalema/anaconda3/envs/kidney/lib/python3.8/site-packages (from alembic!=1.10.0,<2->mlflow) (1.3.2)\n",
      "Requirement already satisfied: typing-extensions>=4 in /home/kalema/anaconda3/envs/kidney/lib/python3.8/site-packages (from alembic!=1.10.0,<2->mlflow) (4.10.0)\n",
      "Requirement already satisfied: importlib-resources in /home/kalema/anaconda3/envs/kidney/lib/python3.8/site-packages (from alembic!=1.10.0,<2->mlflow) (6.4.0)\n",
      "Requirement already satisfied: pyjwt>=1.7.0 in /home/kalema/anaconda3/envs/kidney/lib/python3.8/site-packages (from databricks-cli<1,>=0.8.7->mlflow) (2.8.0)\n",
      "Requirement already satisfied: oauthlib>=3.1.0 in /home/kalema/anaconda3/envs/kidney/lib/python3.8/site-packages (from databricks-cli<1,>=0.8.7->mlflow) (3.2.2)\n",
      "Requirement already satisfied: tabulate>=0.7.7 in /home/kalema/anaconda3/envs/kidney/lib/python3.8/site-packages (from databricks-cli<1,>=0.8.7->mlflow) (0.9.0)\n",
      "Requirement already satisfied: six>=1.10.0 in /home/kalema/anaconda3/envs/kidney/lib/python3.8/site-packages (from databricks-cli<1,>=0.8.7->mlflow) (1.16.0)\n",
      "Requirement already satisfied: urllib3<3,>=1.26.7 in /home/kalema/anaconda3/envs/kidney/lib/python3.8/site-packages (from databricks-cli<1,>=0.8.7->mlflow) (1.26.18)\n",
      "Requirement already satisfied: websocket-client>=0.32.0 in /home/kalema/anaconda3/envs/kidney/lib/python3.8/site-packages (from docker<7,>=4.0.0->mlflow) (1.7.0)\n",
      "Requirement already satisfied: Werkzeug>=2.3.7 in /home/kalema/anaconda3/envs/kidney/lib/python3.8/site-packages (from Flask<3->mlflow) (3.0.1)\n",
      "Requirement already satisfied: itsdangerous>=2.1.2 in /home/kalema/anaconda3/envs/kidney/lib/python3.8/site-packages (from Flask<3->mlflow) (2.1.2)\n",
      "Requirement already satisfied: blinker>=1.6.2 in /home/kalema/anaconda3/envs/kidney/lib/python3.8/site-packages (from Flask<3->mlflow) (1.7.0)\n",
      "Requirement already satisfied: gitdb<5,>=4.0.1 in /home/kalema/anaconda3/envs/kidney/lib/python3.8/site-packages (from gitpython<4,>=2.1.0->mlflow) (4.0.11)\n",
      "Requirement already satisfied: setuptools>=3.0 in /home/kalema/anaconda3/envs/kidney/lib/python3.8/site-packages (from gunicorn<22->mlflow) (68.2.2)\n",
      "Requirement already satisfied: zipp>=0.5 in /home/kalema/anaconda3/envs/kidney/lib/python3.8/site-packages (from importlib-metadata!=4.7.0,<7,>=3.7.0->mlflow) (3.18.1)\n",
      "Requirement already satisfied: MarkupSafe>=2.0 in /home/kalema/anaconda3/envs/kidney/lib/python3.8/site-packages (from Jinja2<4,>=2.11->mlflow) (2.1.5)\n",
      "Requirement already satisfied: contourpy>=1.0.1 in /home/kalema/anaconda3/envs/kidney/lib/python3.8/site-packages (from matplotlib<4->mlflow) (1.1.1)\n",
      "Requirement already satisfied: cycler>=0.10 in /home/kalema/anaconda3/envs/kidney/lib/python3.8/site-packages (from matplotlib<4->mlflow) (0.12.1)\n",
      "Requirement already satisfied: fonttools>=4.22.0 in /home/kalema/anaconda3/envs/kidney/lib/python3.8/site-packages (from matplotlib<4->mlflow) (4.50.0)\n",
      "Requirement already satisfied: kiwisolver>=1.0.1 in /home/kalema/anaconda3/envs/kidney/lib/python3.8/site-packages (from matplotlib<4->mlflow) (1.4.5)\n",
      "Requirement already satisfied: pillow>=6.2.0 in /home/kalema/anaconda3/envs/kidney/lib/python3.8/site-packages (from matplotlib<4->mlflow) (10.2.0)\n",
      "Requirement already satisfied: pyparsing>=2.3.1 in /home/kalema/anaconda3/envs/kidney/lib/python3.8/site-packages (from matplotlib<4->mlflow) (3.1.2)\n",
      "Requirement already satisfied: python-dateutil>=2.7 in /home/kalema/anaconda3/envs/kidney/lib/python3.8/site-packages (from matplotlib<4->mlflow) (2.9.0.post0)\n",
      "Requirement already satisfied: tzdata>=2022.1 in /home/kalema/anaconda3/envs/kidney/lib/python3.8/site-packages (from pandas<3->mlflow) (2024.1)\n",
      "Requirement already satisfied: charset-normalizer<4,>=2 in /home/kalema/anaconda3/envs/kidney/lib/python3.8/site-packages (from requests<3,>=2.17.3->mlflow) (3.3.2)\n",
      "Requirement already satisfied: idna<4,>=2.5 in /home/kalema/anaconda3/envs/kidney/lib/python3.8/site-packages (from requests<3,>=2.17.3->mlflow) (3.6)\n",
      "Requirement already satisfied: certifi>=2017.4.17 in /home/kalema/anaconda3/envs/kidney/lib/python3.8/site-packages (from requests<3,>=2.17.3->mlflow) (2024.2.2)\n",
      "Requirement already satisfied: joblib>=1.1.1 in /home/kalema/anaconda3/envs/kidney/lib/python3.8/site-packages (from scikit-learn<2->mlflow) (1.4.0)\n",
      "Requirement already satisfied: threadpoolctl>=2.0.0 in /home/kalema/anaconda3/envs/kidney/lib/python3.8/site-packages (from scikit-learn<2->mlflow) (3.4.0)\n",
      "Requirement already satisfied: greenlet!=0.4.17 in /home/kalema/anaconda3/envs/kidney/lib/python3.8/site-packages (from sqlalchemy<3,>=1.4.0->mlflow) (3.0.3)\n",
      "Requirement already satisfied: smmap<6,>=3.0.1 in /home/kalema/anaconda3/envs/kidney/lib/python3.8/site-packages (from gitdb<5,>=4.0.1->gitpython<4,>=2.1.0->mlflow) (5.0.1)\n",
      "Note: you may need to restart the kernel to use updated packages.\n"
     ]
    }
   ],
   "source": [
    "import tensorflow as tf\n",
    "from pathlib import Path\n",
    "%pip install mlflow\n",
    "import mlflow \n",
    "import mlflow.keras as mlk\n",
    "from urllib.parse import urlparse\n"
   ]
  },
  {
   "cell_type": "code",
   "execution_count": 22,
   "metadata": {},
   "outputs": [],
   "source": [
    "\n",
    "class Evaluation:\n",
    "    def __init__(self, config: EvaluationConfig) -> None:\n",
    "        self.config = config\n",
    "\n",
    "    def valid_generator(self):\n",
    "        \"\"\"\n",
    "        Prepares data generators for training and validation.\n",
    "\n",
    "        This method prepares data generators for training and validation using the specified parameters\n",
    "        in the training configuration. It applies data augmentation techniques if enabled.\n",
    "        \"\"\"\n",
    "        datagenerator_kwargs = dict(\n",
    "            rescale=1./255,\n",
    "            validation_split=0.20\n",
    "        )\n",
    "        dataflow_kwargs = dict(\n",
    "            target_size=self.config.params_image_size[:-1],\n",
    "            batch_size=self.config.params_batch_size,\n",
    "        )\n",
    "        \n",
    "        valid_datagenerator = tf.keras.preprocessing.image.ImageDataGenerator(\n",
    "                **datagenerator_kwargs\n",
    "            )\n",
    "\n",
    "        self.valid_generator = valid_datagenerator.flow_from_directory(\n",
    "            directory=self.config.training_data,\n",
    "            subset='validation',\n",
    "            shuffle=True,\n",
    "            class_mode='categorical',\n",
    "            **dataflow_kwargs\n",
    "        )\n",
    "\n",
    "\n",
    "    @staticmethod\n",
    "    def load_model(path: Path) -> tf.keras.Model:\n",
    "        return tf.keras.models.load_model(path)\n",
    "    \n",
    "    def evaluation(self):\n",
    "        self.model = self.load_model(self.config.path_of_model)\n",
    "        self.valid_generator()\n",
    "        self.score = self.model.evaluate(self.valid_generator)\n",
    "        self.save_score()\n",
    "\n",
    "    def save_score(self):\n",
    "        scores = {\"loss\": self.score[0], \"accuracy\": self.score[1]}\n",
    "        save_json(path=Path(\"scores.json\"), data=scores)\n",
    "\n",
    "    def log_into_mlflow(self):\n",
    "        mlflow.set_registry_uri(self.config.mlflow_uri)\n",
    "        tracking_url_type_store= urlparse(mlflow.get_tracking_uri()).scheme\n",
    "\n",
    "        with mlflow.start_run():\n",
    "            mlflow.log_params(self.config.all_params)\n",
    "            mlflow.log_metrics(\n",
    "                {\"loss\": self.score[0], \"accuracy\": self.score[1]}\n",
    "            )\n",
    "            \n",
    "            if tracking_url_type_store != \"file\":\n",
    "                mlk.log_model(self.model, \"model\", registered_model_name=\"PotholeClassificationModel\")\n",
    "            else:\n",
    "                mlk.keras.log_model(self.model, \"model\")"
   ]
  },
  {
   "cell_type": "code",
   "execution_count": 23,
   "metadata": {},
   "outputs": [
    {
     "name": "stdout",
     "output_type": "stream",
     "text": [
      "[2024-04-30 12:14:51,228: INFO: common: yaml file: config/config.yaml loaded successfully]\n",
      "[2024-04-30 12:14:51,239: INFO: common: yaml file: params.yaml loaded successfully]\n",
      "[2024-04-30 12:14:51,245: INFO: common: Created directory at: artifacts]\n"
     ]
    },
    {
     "name": "stdout",
     "output_type": "stream",
     "text": [
      "Found 144 images belonging to 2 classes.\n"
     ]
    },
    {
     "name": "stderr",
     "output_type": "stream",
     "text": [
      "2024-04-30 12:14:52.399324: I tensorflow/core/common_runtime/executor.cc:1197] [/device:CPU:0] (DEBUG INFO) Executor start aborting (this does not indicate an error and you can ignore this message): INVALID_ARGUMENT: You must feed a value for placeholder tensor 'Placeholder/_0' with dtype int32\n",
      "\t [[{{node Placeholder/_0}}]]\n"
     ]
    },
    {
     "name": "stdout",
     "output_type": "stream",
     "text": [
      "9/9 [==============================] - 10s 969ms/step - loss: 0.1681 - accuracy: 0.9722\n",
      "[2024-04-30 12:15:01,962: INFO: common: Json file saved at: scores.json]\n"
     ]
    },
    {
     "name": "stderr",
     "output_type": "stream",
     "text": [
      "2024/04/30 12:15:03 WARNING mlflow.tensorflow: You are saving a TensorFlow Core model or Keras model without a signature. Inference with mlflow.pyfunc.spark_udf() will not work unless the model's pyfunc representation accepts pandas DataFrames as inference inputs.\n"
     ]
    },
    {
     "name": "stdout",
     "output_type": "stream",
     "text": [
      "[2024-04-30 12:15:05,547: WARNING: save: Found untraced functions such as _jit_compiled_convolution_op, _jit_compiled_convolution_op, _jit_compiled_convolution_op, _jit_compiled_convolution_op, _update_step_xla while saving (showing 5 of 5). These functions will not be directly callable after loading.]\n",
      "[2024-04-30 12:15:06,799: INFO: builder_impl: Assets written to: /tmp/tmpyskizlx9/model/data/model/assets]\n"
     ]
    },
    {
     "name": "stderr",
     "output_type": "stream",
     "text": [
      "/home/kalema/anaconda3/envs/kidney/lib/python3.8/site-packages/_distutils_hack/__init__.py:33: UserWarning: Setuptools is replacing distutils.\n",
      "  warnings.warn(\"Setuptools is replacing distutils.\")\n",
      "Successfully registered model 'PotholeClassificationModel'.\n",
      "2024/04/30 12:16:25 INFO mlflow.tracking._model_registry.client: Waiting up to 300 seconds for model version to finish creation. Model name: PotholeClassificationModel, version 1\n",
      "Created version '1' of model 'PotholeClassificationModel'.\n"
     ]
    }
   ],
   "source": [
    "try:\n",
    "    config = ConfigurationManager()\n",
    "    evaluation_config = config.get_evaluation_config()\n",
    "    evaluation = Evaluation(config=evaluation_config)\n",
    "    evaluation.evaluation()\n",
    "    evaluation.log_into_mlflow()\n",
    "except Exception as e:\n",
    "    raise e"
   ]
  },
  {
   "cell_type": "code",
   "execution_count": null,
   "metadata": {},
   "outputs": [],
   "source": []
  }
 ],
 "metadata": {
  "kernelspec": {
   "display_name": "kidney",
   "language": "python",
   "name": "python3"
  },
  "language_info": {
   "codemirror_mode": {
    "name": "ipython",
    "version": 3
   },
   "file_extension": ".py",
   "mimetype": "text/x-python",
   "name": "python",
   "nbconvert_exporter": "python",
   "pygments_lexer": "ipython3",
   "version": "3.8.19"
  }
 },
 "nbformat": 4,
 "nbformat_minor": 2
}
