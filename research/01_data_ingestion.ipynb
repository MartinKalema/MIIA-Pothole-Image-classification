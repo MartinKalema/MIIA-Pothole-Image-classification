{
 "cells": [
  {
   "cell_type": "code",
   "execution_count": 1,
   "metadata": {},
   "outputs": [],
   "source": [
    "import os"
   ]
  },
  {
   "cell_type": "code",
   "execution_count": 2,
   "metadata": {},
   "outputs": [
    {
     "data": {
      "text/plain": [
       "'/home/kalema/Projects/MIIA-Pothole-Image-classification/research'"
      ]
     },
     "execution_count": 2,
     "metadata": {},
     "output_type": "execute_result"
    }
   ],
   "source": [
    "%pwd"
   ]
  },
  {
   "cell_type": "code",
   "execution_count": 3,
   "metadata": {},
   "outputs": [],
   "source": [
    "os.chdir('../')"
   ]
  },
  {
   "cell_type": "code",
   "execution_count": 4,
   "metadata": {},
   "outputs": [
    {
     "data": {
      "text/plain": [
       "'/home/kalema/Projects/MIIA-Pothole-Image-classification'"
      ]
     },
     "execution_count": 4,
     "metadata": {},
     "output_type": "execute_result"
    }
   ],
   "source": [
    "%pwd"
   ]
  },
  {
   "cell_type": "code",
   "execution_count": 5,
   "metadata": {},
   "outputs": [],
   "source": [
    "from dataclasses import dataclass\n",
    "from pathlib import Path"
   ]
  },
  {
   "cell_type": "code",
   "execution_count": 6,
   "metadata": {},
   "outputs": [],
   "source": [
    "@dataclass(frozen=True)\n",
    "class DataIngestionConfig:\n",
    "    root_dir: Path\n",
    "    source_URL: str\n",
    "    local_data_file: Path\n",
    "    unzip_dir: Path"
   ]
  },
  {
   "cell_type": "code",
   "execution_count": 7,
   "metadata": {},
   "outputs": [],
   "source": [
    "from potholeClassifier.constants import *\n",
    "from potholeClassifier.utils.common import read_yaml, create_directories"
   ]
  },
  {
   "cell_type": "code",
   "execution_count": 9,
   "metadata": {},
   "outputs": [],
   "source": [
    "class ConfigurationManager:\n",
    "    def __init__(\n",
    "            self,\n",
    "            config_filepath = CONFIG_FILE_PATH,\n",
    "            params_filepath = PARAMS_FILE_PATH):\n",
    "\n",
    "        self.config = read_yaml(config_filepath)\n",
    "        self.params = read_yaml(params_filepath)\n",
    "\n",
    "        # create_directories([self.config.artifacts_root])\n",
    "    \n",
    "    # def get_data_ingestion_config(self) -> DataIngestionConfig:\n",
    "    #     config = self.config.data_ingestion\n",
    "\n",
    "    #     create_directories([config.root_dir])\n",
    "\n",
    "    #     data_ingestion_config = DataIngestionConfig(\n",
    "    #         root_dir=config.root_dir,\n",
    "    #         source_URL=config.source_URL,\n",
    "    #         local_data_file=config.local_data_file,\n",
    "    #         unzip_dir=config.unzip_dir\n",
    "    #     )\n",
    "\n",
    "    #     return data_ingestion_config"
   ]
  },
  {
   "cell_type": "code",
   "execution_count": 10,
   "metadata": {},
   "outputs": [
    {
     "name": "stdout",
     "output_type": "stream",
     "text": [
      "[2024-05-28 13:04:49,790: INFO: common:33: yaml file: config/config.yaml loaded successfully]\n",
      "[2024-05-28 13:04:49,799: INFO: common:33: yaml file: params.yaml loaded successfully]\n"
     ]
    }
   ],
   "source": [
    "config = ConfigurationManager()"
   ]
  },
  {
   "cell_type": "code",
   "execution_count": 10,
   "metadata": {},
   "outputs": [],
   "source": [
    "import os\n",
    "import zipfile\n",
    "import gdown\n",
    "from potholeClassifier import logger"
   ]
  },
  {
   "cell_type": "code",
   "execution_count": 11,
   "metadata": {},
   "outputs": [],
   "source": [
    "class DataIngestion:\n",
    "    def __init__(self, config: DataIngestionConfig):\n",
    "        \"\"\"\n",
    "        Initialize DataIngestion object with the provided configuration.\n",
    "\n",
    "        Args:\n",
    "            config (DataIngestionConfig): Configuration object for data ingestion.\n",
    "        \"\"\"\n",
    "        self.config = config\n",
    "\n",
    "    def download_file(self):\n",
    "        \"\"\"Fetch data from a URL.\n",
    "        \n",
    "        Raises:\n",
    "            Exception: If an error occurs during the download process.\n",
    "        \"\"\"\n",
    "        try:\n",
    "            dataset_url = self.config.source_URL\n",
    "            zip_download_dir =  self.config.local_data_file\n",
    "            os.makedirs(\"artifacts/data_ingestion\", exist_ok=True)\n",
    "            \n",
    "            logger.info(f\"Downloading data from {dataset_url} into file {zip_download_dir}\")\n",
    "\n",
    "            file_id = dataset_url.split(\"/\")[-2]\n",
    "            prefix = \"https://drive.google.com/uc?/export=download&id=\"\n",
    "            gdown.download(prefix + file_id, zip_download_dir)\n",
    "\n",
    "            logger.info(f\"Downloaded data from {dataset_url} into file {zip_download_dir}\")\n",
    "\n",
    "        except Exception as e:\n",
    "            raise e\n",
    "        \n",
    "    def extract_zip_file(self):\n",
    "        \"\"\"Extract a zip file.\n",
    "\n",
    "            This method extracts the contents of a zip file specified in the configuration\n",
    "            to the directory specified in the configuration.\n",
    "\n",
    "            Raises:\n",
    "                Exception: If an error occurs during the extraction process.\n",
    "            \"\"\"\n",
    "        try:\n",
    "            unzip_path = self.config.unzip_dir\n",
    "            os.makedirs(unzip_path, exist_ok=True)\n",
    "\n",
    "            with zipfile.ZipFile(self.config.local_data_file, \"r\") as zip_ref:\n",
    "                zip_ref.extractall(unzip_path)\n",
    "\n",
    "            logger.info(f\"Extracted zip file into: {unzip_path}\")\n",
    "\n",
    "        except Exception as e:\n",
    "            logger.error(f\"Error extracting zip file: {self.config.local_data_file}\")\n",
    "            raise e\n",
    "        "
   ]
  },
  {
   "cell_type": "code",
   "execution_count": 13,
   "metadata": {},
   "outputs": [
    {
     "name": "stdout",
     "output_type": "stream",
     "text": [
      "[2024-04-23 21:34:25,882: INFO: common: yaml file: config/config.yaml loaded successfully]\n",
      "[2024-04-23 21:34:25,889: INFO: common: yaml file: params.yaml loaded successfully]\n",
      "[2024-04-23 21:34:25,895: INFO: common: Created directory at: artifacts]\n",
      "[2024-04-23 21:34:25,897: INFO: common: Created directory at: artifacts/data_ingestion]\n",
      "[2024-04-23 21:34:25,899: INFO: 149356000: Downloading data from https://drive.google.com/file/d/1tr0maAqEcDfobZGJgswF_XoOsVd16-SZ/view?usp=drive_link into file artifacts/data_ingestion/data.zip]\n"
     ]
    },
    {
     "name": "stderr",
     "output_type": "stream",
     "text": [
      "Downloading...\n",
      "From (original): https://drive.google.com/uc?/export=download&id=1tr0maAqEcDfobZGJgswF_XoOsVd16-SZ\n",
      "From (redirected): https://drive.google.com/uc?%2Fexport=download&id=1tr0maAqEcDfobZGJgswF_XoOsVd16-SZ&confirm=t&uuid=6ced0dda-ca42-421b-a592-2136e697113b\n",
      "To: /home/kalema/Projects/MIIA-Pothole-Image-classification/artifacts/data_ingestion/data.zip\n",
      "100%|██████████| 305M/305M [04:50<00:00, 1.05MB/s] "
     ]
    },
    {
     "name": "stdout",
     "output_type": "stream",
     "text": [
      "[2024-04-23 21:39:24,043: INFO: 149356000: Downloaded data from https://drive.google.com/file/d/1tr0maAqEcDfobZGJgswF_XoOsVd16-SZ/view?usp=drive_link into file artifacts/data_ingestion/data.zip]\n"
     ]
    },
    {
     "name": "stderr",
     "output_type": "stream",
     "text": [
      "\n"
     ]
    },
    {
     "name": "stdout",
     "output_type": "stream",
     "text": [
      "[2024-04-23 21:39:37,569: INFO: 149356000: Extracted zip file into: artifacts/data_ingestion]\n"
     ]
    }
   ],
   "source": [
    "try:\n",
    "    config = ConfigurationManager()\n",
    "    data_ingestion_config = config.get_data_ingestion_config()\n",
    "    data_ingestion = DataIngestion(config=data_ingestion_config)\n",
    "    data_ingestion.download_file()\n",
    "    data_ingestion.extract_zip_file()\n",
    "except Exception as e:\n",
    "    raise e"
   ]
  },
  {
   "cell_type": "code",
   "execution_count": null,
   "metadata": {},
   "outputs": [],
   "source": []
  }
 ],
 "metadata": {
  "kernelspec": {
   "display_name": "kidney",
   "language": "python",
   "name": "python3"
  },
  "language_info": {
   "codemirror_mode": {
    "name": "ipython",
    "version": 3
   },
   "file_extension": ".py",
   "mimetype": "text/x-python",
   "name": "python",
   "nbconvert_exporter": "python",
   "pygments_lexer": "ipython3",
   "version": "3.8.19"
  }
 },
 "nbformat": 4,
 "nbformat_minor": 2
}
