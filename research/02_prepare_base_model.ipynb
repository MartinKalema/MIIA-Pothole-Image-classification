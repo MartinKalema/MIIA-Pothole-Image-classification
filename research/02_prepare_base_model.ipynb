{
 "cells": [
  {
   "cell_type": "code",
   "execution_count": 1,
   "metadata": {},
   "outputs": [],
   "source": [
    "import os"
   ]
  },
  {
   "cell_type": "code",
   "execution_count": 2,
   "metadata": {},
   "outputs": [
    {
     "data": {
      "text/plain": [
       "'/home/kalema/Projects/MIIA-Pothole-Image-classification/research'"
      ]
     },
     "execution_count": 2,
     "metadata": {},
     "output_type": "execute_result"
    }
   ],
   "source": [
    "%pwd"
   ]
  },
  {
   "cell_type": "code",
   "execution_count": 3,
   "metadata": {},
   "outputs": [],
   "source": [
    "os.chdir('../')"
   ]
  },
  {
   "cell_type": "code",
   "execution_count": 4,
   "metadata": {},
   "outputs": [
    {
     "data": {
      "text/plain": [
       "'/home/kalema/Projects/MIIA-Pothole-Image-classification'"
      ]
     },
     "execution_count": 4,
     "metadata": {},
     "output_type": "execute_result"
    }
   ],
   "source": [
    "%pwd"
   ]
  },
  {
   "cell_type": "code",
   "execution_count": 11,
   "metadata": {},
   "outputs": [],
   "source": [
    "from dataclasses import dataclass\n",
    "from pathlib import Path \n",
    "\n",
    "@dataclass(frozen=True)\n",
    "class PrepareBaseModelConfig:\n",
    "    \"\"\"Configuration class for preparing base models.\n",
    "    \n",
    "    Attributes:\n",
    "        root_dir (Path): The root directory where model-related files are stored.\n",
    "        base_model_path (Path): The path where the base model will be saved.\n",
    "        params_image_size (list): A list representing the image size parameters.\n",
    "        params_classes (int): The number of classes in the model.\n",
    "        params_dense_units (int): The number of neurons  in the fully connected layer\n",
    "        params_conv_1_filters (int): The number of filters in the first convolutional layer\n",
    "        params_conv_2_filters (int): The number of filters in the second convolutional layer\n",
    "        params_conv_3_filters (int): The number of filters in the third convolutional layer\n",
    "        params_conv_4_filters (int): The number of filters in the fourth convolutional layer\n",
    "    \"\"\"\n",
    "    root_dir: Path\n",
    "    base_model_path: Path\n",
    "    params_image_size: list\n",
    "    params_classes: int\n",
    "    params_dense_units: int\n",
    "    params_conv_1_filters: int\n",
    "    params_conv_2_filters: int\n",
    "    params_conv_3_filters: int\n",
    "    params_conv_4_filters: int"
   ]
  },
  {
   "cell_type": "code",
   "execution_count": 12,
   "metadata": {},
   "outputs": [],
   "source": [
    "from potholeClassifier.constants import *\n",
    "from potholeClassifier.utils.common import read_yaml, create_directories"
   ]
  },
  {
   "cell_type": "code",
   "execution_count": 13,
   "metadata": {},
   "outputs": [],
   "source": [
    "from pathlib import Path\n",
    "\n",
    "class ConfigurationManager:\n",
    "    \"\"\"Class for managing configuration files and preparing base models.\n",
    "    \n",
    "    This class handles the loading of configuration files and parameters,\n",
    "    as well as the creation of directories necessary for preparing base models.\n",
    "    \n",
    "    Attributes:\n",
    "        config_filepath (str, optional): The filepath of the configuration file. Defaults to CONFIG_FILE_PATH.\n",
    "        params_filepath (str, optional): The filepath of the parameters file. Defaults to PARAMS_FILE_PATH.\n",
    "    \n",
    "    Methods:\n",
    "        get_prepare_base_model_config(): Retrieves the configuration for preparing base models.\n",
    "    \"\"\"\n",
    "\n",
    "    def __init__(self, config_filepath=CONFIG_FILE_PATH, params_filepath=PARAMS_FILE_PATH):\n",
    "        \"\"\"Initializes the ConfigurationManager.\n",
    "\n",
    "        Args:\n",
    "            config_filepath (str, optional): The filepath of the configuration file. Defaults to CONFIG_FILE_PATH.\n",
    "            params_filepath (str, optional): The filepath of the parameters file. Defaults to PARAMS_FILE_PATH.\n",
    "        \"\"\"\n",
    "        self.config = read_yaml(config_filepath)\n",
    "        self.params = read_yaml(params_filepath)\n",
    "\n",
    "        create_directories([self.config.artifacts_root])\n",
    "    \n",
    "    def get_base_model_config(self) -> PrepareBaseModelConfig:\n",
    "        \"\"\"Retrieves the configuration for preparing base models.\n",
    "\n",
    "        Returns:\n",
    "            PrepareBaseModelConfig: The configuration for preparing base models.\n",
    "        \"\"\"\n",
    "        config = self.config.prepare_base_model\n",
    "\n",
    "        create_directories([config.root_dir])\n",
    "\n",
    "        base_model_config = PrepareBaseModelConfig(\n",
    "            root_dir=Path(config.root_dir),\n",
    "            base_model_path=Path(config.base_model_path),\n",
    "            params_image_size=self.params.IMAGE_SIZE,\n",
    "            params_dense_units=self.params.DENSE_UNITS,\n",
    "            params_conv_1_filters=self.params.CONV_1_FILTERS,\n",
    "            params_conv_2_filters=self.params.CONV_2_FILTERS,\n",
    "            params_conv_3_filters=self.params.CONV_3_FILTERS,\n",
    "            params_conv_4_filters=self.params.CONV_4_FILTERS,\n",
    "            params_classes=self.params.CLASSES\n",
    "        )\n",
    "\n",
    "        return base_model_config\n"
   ]
  },
  {
   "cell_type": "code",
   "execution_count": 14,
   "metadata": {},
   "outputs": [],
   "source": [
    "import os\n",
    "import urllib.request as request\n",
    "from zipfile import ZipFile\n",
    "import tensorflow as tf"
   ]
  },
  {
   "cell_type": "code",
   "execution_count": 15,
   "metadata": {},
   "outputs": [],
   "source": [
    "from tensorflow.keras.models import Sequential\n",
    "from tensorflow.keras.layers import Conv2D, MaxPooling2D, Flatten, Dense\n",
    "\n",
    "class PrepareBaseModel:\n",
    "    \"\"\"Class for preparing base models.\n",
    "\n",
    "    This class provides methods preparing a full model and saving it to a specified path.\n",
    "\n",
    "    Attributes:\n",
    "        config (PrepareBaseModelConfig): The configuration for preparing base models.\n",
    "    \"\"\"\n",
    "\n",
    "    def __init__(self, config: PrepareBaseModelConfig):\n",
    "        \"\"\"Initializes the PrepareBaseModel.\n",
    "\n",
    "        Args:\n",
    "            config (PrepareBaseModelConfig): The configuration for preparing base models.\n",
    "        \"\"\"\n",
    "        self.config = config\n",
    "\n",
    "    @staticmethod\n",
    "    def _prepare_full_model(conv_1_filters, conv_2_filters, conv_3_filters, conv_4_filters, dense_units, number_of_classes, image_size):\n",
    "        \"\"\"Prepares the full model by freezing specified layers and adding additional layers.\n",
    "\n",
    "        Args:\n",
    "            number_of_classes (int): The number of classes in the model.\n",
    "            conv_1_filters: Number of filters on the first convolutional layer\n",
    "            conv_2_filters: Number of filters on the second convolutional layer\n",
    "            conv_3_filters: Number of filters on the third convolutional layer\n",
    "            conv_4_filters: Number of filters on the fourth convolutional layer\n",
    "            dense_units: Number of neurons in the fully connected dense layer\n",
    "            image_size: Input shape of the model\n",
    "\n",
    "        Returns:\n",
    "            tf.keras.Model: The prepared full model.\n",
    "        \"\"\"\n",
    "        full_model = Sequential([\n",
    "            Conv2D(conv_1_filters, (3, 3), activation='relu', input_shape=image_size),\n",
    "            MaxPooling2D((2, 2)),\n",
    "            Conv2D(conv_2_filters, (3, 3), activation='relu'),\n",
    "            MaxPooling2D((2, 2)),\n",
    "            Conv2D(conv_3_filters, (3, 3), activation='relu'),\n",
    "            MaxPooling2D((2, 2)),\n",
    "            Conv2D(conv_4_filters, (3, 3), activation='relu'),\n",
    "            MaxPooling2D((2, 2)),\n",
    "            Flatten(),\n",
    "            Dense(dense_units, activation='relu'),\n",
    "            Dense(number_of_classes, activation='softmax')\n",
    "        ])\n",
    "\n",
    "        # Compile the model\n",
    "        full_model.compile(optimizer='adam', loss='categorical_crossentropy', metrics=['accuracy'])\n",
    "\n",
    "        # Print the model summary\n",
    "        full_model.summary()\n",
    "        return full_model\n",
    "    \n",
    "    def _save_base_model(self):\n",
    "        self.full_model = self._prepare_full_model(\n",
    "            number_of_classes=self.config.params_classes,\n",
    "            dense_units=self.config.params_dense_units,\n",
    "            conv_1_filters=self.config.params_conv_1_filters,\n",
    "            conv_2_filters=self.config.params_conv_2_filters,\n",
    "            conv_3_filters=self.config.params_conv_3_filters,\n",
    "            conv_4_filters=self.config.params_conv_4_filters,\n",
    "            image_size=self.config.params_image_size\n",
    "        )\n",
    "\n",
    "        self._save_model(path=self.config.base_model_path, model=self.full_model)\n",
    "\n",
    "    @staticmethod\n",
    "    def _save_model(path: Path, model: tf.keras.Model):\n",
    "        \"\"\"Saves the model to the specified path.\n",
    "\n",
    "        Args:\n",
    "            path (Path): The path where the model will be saved.\n",
    "            model (tf.keras.Model): The model to be saved.\n",
    "        \"\"\"\n",
    "        model.save(path)\n"
   ]
  },
  {
   "cell_type": "code",
   "execution_count": 17,
   "metadata": {},
   "outputs": [
    {
     "name": "stdout",
     "output_type": "stream",
     "text": [
      "[2024-04-29 10:24:53,039: INFO: common: yaml file: config/config.yaml loaded successfully]\n",
      "[2024-04-29 10:24:53,050: INFO: common: yaml file: params.yaml loaded successfully]\n",
      "[2024-04-29 10:24:53,055: INFO: common: Created directory at: artifacts]\n",
      "[2024-04-29 10:24:53,058: INFO: common: Created directory at: artifacts/base_model]\n",
      "Model: \"sequential_2\"\n",
      "_________________________________________________________________\n",
      " Layer (type)                Output Shape              Param #   \n",
      "=================================================================\n",
      " conv2d_8 (Conv2D)           (None, 222, 222, 64)      1792      \n",
      "                                                                 \n",
      " max_pooling2d_8 (MaxPooling  (None, 111, 111, 64)     0         \n",
      " 2D)                                                             \n",
      "                                                                 \n",
      " conv2d_9 (Conv2D)           (None, 109, 109, 128)     73856     \n",
      "                                                                 \n",
      " max_pooling2d_9 (MaxPooling  (None, 54, 54, 128)      0         \n",
      " 2D)                                                             \n",
      "                                                                 \n",
      " conv2d_10 (Conv2D)          (None, 52, 52, 96)        110688    \n",
      "                                                                 \n",
      " max_pooling2d_10 (MaxPoolin  (None, 26, 26, 96)       0         \n",
      " g2D)                                                            \n",
      "                                                                 \n",
      " conv2d_11 (Conv2D)          (None, 24, 24, 64)        55360     \n",
      "                                                                 \n",
      " max_pooling2d_11 (MaxPoolin  (None, 12, 12, 64)       0         \n",
      " g2D)                                                            \n",
      "                                                                 \n",
      " flatten_2 (Flatten)         (None, 9216)              0         \n",
      "                                                                 \n",
      " dense_4 (Dense)             (None, 320)               2949440   \n",
      "                                                                 \n",
      " dense_5 (Dense)             (None, 2)                 642       \n",
      "                                                                 \n",
      "=================================================================\n",
      "Total params: 3,191,778\n",
      "Trainable params: 3,191,778\n",
      "Non-trainable params: 0\n",
      "_________________________________________________________________\n"
     ]
    }
   ],
   "source": [
    "try: \n",
    "    config = ConfigurationManager()\n",
    "    base_model_config = config.get_base_model_config()\n",
    "    base_model = PrepareBaseModel(config=base_model_config)\n",
    "    base_model._save_base_model()\n",
    "except Exception as e:\n",
    "    raise e"
   ]
  },
  {
   "cell_type": "code",
   "execution_count": null,
   "metadata": {},
   "outputs": [],
   "source": []
  }
 ],
 "metadata": {
  "kernelspec": {
   "display_name": "kidney",
   "language": "python",
   "name": "python3"
  },
  "language_info": {
   "codemirror_mode": {
    "name": "ipython",
    "version": 3
   },
   "file_extension": ".py",
   "mimetype": "text/x-python",
   "name": "python",
   "nbconvert_exporter": "python",
   "pygments_lexer": "ipython3",
   "version": "3.8.19"
  }
 },
 "nbformat": 4,
 "nbformat_minor": 2
}
